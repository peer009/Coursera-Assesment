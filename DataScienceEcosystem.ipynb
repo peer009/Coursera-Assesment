{
 "cells": [
  {
   "cell_type": "markdown",
   "id": "ae9ae7a5",
   "metadata": {},
   "source": [
    "# Data Science Tool and Ecosystem\n"
   ]
  },
  {
   "cell_type": "markdown",
   "id": "43b50793",
   "metadata": {},
   "source": [
    "In this notebook, Data Science Tools and Ecosystem are summarized."
   ]
  },
  {
   "cell_type": "markdown",
   "id": "17a6cfe4",
   "metadata": {},
   "source": [
    "**Objective:**\n",
    "\n",
    "- List popular languages for Data Science\n",
    "- Create a Table\n",
    "- Create and Ordered list\n",
    "- Create and Unordered list\n",
    "- Use H3 style heading\n"
   ]
  },
  {
   "cell_type": "markdown",
   "id": "fc18e31b",
   "metadata": {},
   "source": [
    "Some of the popular languages that Data Scientists use are:\n",
    "1. Python\n",
    "2. Java\n",
    "3. R\n",
    "4. Sql\n",
    "5. Julia"
   ]
  },
  {
   "cell_type": "markdown",
   "id": "306d192b",
   "metadata": {},
   "source": [
    "Some of the commonly used libraries used by Data Scientists include:"
   ]
  },
  {
   "cell_type": "markdown",
   "id": "a82710e9",
   "metadata": {},
   "source": [
    "1. Numpy\n",
    "2. Pandas\n",
    "3. Matplotlib"
   ]
  },
  {
   "cell_type": "markdown",
   "id": "6dd99043",
   "metadata": {},
   "source": [
    "|Data Science Tools|\n",
    "|------------------|\n",
    "|Jupyter Notebooks |\n",
    "|R Studio          |\n",
    "|Git/GitHub        |"
   ]
  },
  {
   "cell_type": "markdown",
   "id": "3355f971",
   "metadata": {},
   "source": [
    "### Below are a few examples of evaluating arithmetic expressions in Python"
   ]
  },
  {
   "cell_type": "markdown",
   "id": "e072a082",
   "metadata": {},
   "source": [
    "This a simple arithmetic expression to mutiply then add integers."
   ]
  },
  {
   "cell_type": "code",
   "execution_count": 2,
   "id": "df592c7b",
   "metadata": {},
   "outputs": [
    {
     "name": "stdout",
     "output_type": "stream",
     "text": [
      "17\n"
     ]
    }
   ],
   "source": [
    "print((3*4)+5)"
   ]
  },
  {
   "cell_type": "markdown",
   "id": "ba6b2d85",
   "metadata": {},
   "source": [
    "This will convert 200 minutes to hours by diving by 60"
   ]
  },
  {
   "cell_type": "code",
   "execution_count": 8,
   "id": "044e5c65",
   "metadata": {},
   "outputs": [
    {
     "name": "stdout",
     "output_type": "stream",
     "text": [
      "3.3333333333333335 hours\n"
     ]
    }
   ],
   "source": [
    "print(str(200/60) + \" \" + \"hours\")"
   ]
  },
  {
   "cell_type": "markdown",
   "id": "0e27f2ec",
   "metadata": {},
   "source": [
    "## Author"
   ]
  },
  {
   "cell_type": "markdown",
   "id": "1ea21b40",
   "metadata": {},
   "source": [
    "Namoog Moses Yinzor"
   ]
  }
 ],
 "metadata": {
  "kernelspec": {
   "display_name": "Python 3 (ipykernel)",
   "language": "python",
   "name": "python3"
  },
  "language_info": {
   "codemirror_mode": {
    "name": "ipython",
    "version": 3
   },
   "file_extension": ".py",
   "mimetype": "text/x-python",
   "name": "python",
   "nbconvert_exporter": "python",
   "pygments_lexer": "ipython3",
   "version": "3.10.8"
  }
 },
 "nbformat": 4,
 "nbformat_minor": 5
}
